{
 "cells": [
  {
   "cell_type": "code",
   "execution_count": null,
   "metadata": {},
   "outputs": [],
   "source": [
    "# data analysis and wrangling\n",
    "#https://www.kaggle.com/startupsci/titanic-data-science-solutions\n",
    "    \n",
    "import pandas as pd\n",
    "import numpy as np\n",
    "import random as rnd\n",
    "\n",
    "# visualization\n",
    "import seaborn as sns\n",
    "import matplotlib.pyplot as plt\n",
    "%matplotlib inline\n",
    "\n",
    "# machine learning\n",
    "from sklearn.linear_model import LogisticRegression\n",
    "from sklearn.svm import SVC, LinearSVC\n",
    "from sklearn.ensemble import RandomForestClassifier\n",
    "from sklearn.neighbors import KNeighborsClassifier\n",
    "from sklearn.naive_bayes import GaussianNB\n",
    "from sklearn.linear_model import Perceptron\n",
    "from sklearn.linear_model import SGDClassifier\n",
    "from sklearn.tree import DecisionTreeClassifier"
   ]
  },
  {
   "cell_type": "code",
   "execution_count": null,
   "metadata": {},
   "outputs": [],
   "source": [
    "#Load the data\n",
    "aviation = pd.read_csv('GeneralAviationUSLLClean.csv',encoding='latin1',low_memory=False)\n",
    "aviation.shape"
   ]
  },
  {
   "cell_type": "code",
   "execution_count": null,
   "metadata": {},
   "outputs": [],
   "source": [
    "#Split into train and test set\n",
    "def split_train_test(data, test_ratio):\n",
    "    shuffled_indices = np.random.permutation(len(data))\n",
    "    test_set_size = int(len(data) * test_ratio)\n",
    "    test_indices = shuffled_indices[:test_set_size]\n",
    "    train_indices = shuffled_indices[test_set_size:]\n",
    "    return data.iloc[train_indices], data.iloc[test_indices]"
   ]
  },
  {
   "cell_type": "code",
   "execution_count": null,
   "metadata": {},
   "outputs": [],
   "source": [
    "df = aviation[['WeatherCondition','BroadPhaseofFlight','PurposeofFlight', \"Lethality\"]]\n",
    "df = df.dropna()\n",
    "df[\"Wx\"]= df[\"WeatherCondition\"].astype('category')\n",
    "df[\"Phase\"]= df[\"BroadPhaseofFlight\"].astype('category')\n",
    "df[\"Purpose\"]= df[\"PurposeofFlight\"].astype('category')\n",
    "\n",
    "#Categories CWx indicates weather condition. CPhase indicates phase in flight accident occurred. CPurpose indicates the purpose of fight.\n",
    "df[\"CWx\"]= df[\"Wx\"].cat.codes\n",
    "df[\"CPhase\"]= df[\"Phase\"].cat.codes\n",
    "df[\"CPurpose\"]= df[\"Purpose\"].cat.codes"
   ]
  },
  {
   "cell_type": "code",
   "execution_count": null,
   "metadata": {},
   "outputs": [],
   "source": [
    "df_final = df[[\"Lethality\",'CWx','CPhase','CPurpose']]\n",
    "df_final.dtypes"
   ]
  },
  {
   "cell_type": "code",
   "execution_count": null,
   "metadata": {},
   "outputs": [],
   "source": [
    "#Weather condition\n",
    "df_final[\"CWx\"].hist()"
   ]
  },
  {
   "cell_type": "code",
   "execution_count": null,
   "metadata": {},
   "outputs": [],
   "source": [
    "#Phase of flight accident occurred\n",
    "df_final[\"CPhase\"].hist()"
   ]
  },
  {
   "cell_type": "code",
   "execution_count": null,
   "metadata": {},
   "outputs": [],
   "source": [
    "from sklearn.model_selection import train_test_split\n",
    "train_df, test_df = train_test_split(df, test_size=0.2, random_state=42)\n",
    "df.shape, train_df, test_df"
   ]
  },
  {
   "cell_type": "code",
   "execution_count": null,
   "metadata": {},
   "outputs": [],
   "source": [
    "train_rg = train_df[['Lethality','CWx','CPhase','CPurpose']]\n",
    "X_train = train_df[['CWx','CPhase','CPurpose']]\n",
    "Y_train = train_df[\"Lethality\"]\n",
    "X_test  = test_df[['CWx','CPhase','CPurpose']]\n",
    "Y_test  = test_df[['Lethality']]\n",
    "X_train.shape, Y_train.shape, X_test.shape"
   ]
  },
  {
   "cell_type": "code",
   "execution_count": null,
   "metadata": {},
   "outputs": [],
   "source": [
    "from sklearn.model_selection import cross_val_score\n",
    "X=df_final[['CWx','CPhase','CPurpose']]\n",
    "y=df_final['Lethality']"
   ]
  },
  {
   "cell_type": "code",
   "execution_count": null,
   "metadata": {},
   "outputs": [],
   "source": [
    "from sklearn.metrics import mean_absolute_error, average_precision_score\n",
    "from sklearn.metrics import recall_score, f1_score, mean_squared_error\n",
    "\n",
    "def rmse(Y_test, Y_pred): \n",
    "    return \n",
    "    np.sqrt(((Y_test - Y_pred) ** 2).mean())\n",
    "    \n",
    "def display_scores(Y_test, Y_pred):\n",
    "    mae=mean_absolute_error(Y_test, Y_pred)\n",
    "    precision=average_precision_score(Y_test, Y_pred)\n",
    "    recall=recall_score(Y_test, Y_pred)\n",
    "    f1=f1_score(Y_test, Y_pred)\n",
    "\n",
    "    print(\"MAE:\", mae)\n",
    "    print(\"Average Precision Score:\", precision)\n",
    "    print(\"Recall:\", recall)\n",
    "    print(\"F1:\", f1)\n",
    "    \n",
    "def display_cross_val_scores(scores):\n",
    "    print(\"Cross Validation Scores:\", scores)\n",
    "    print(\"Mean:\", scores.mean())\n",
    "    print(\"Standard deviation:\", scores.std()) "
   ]
  },
  {
   "cell_type": "code",
   "execution_count": null,
   "metadata": {},
   "outputs": [],
   "source": [
    "# Linear Regresion\n",
    "logreg = LogisticRegression()\n",
    "logreg.fit(X_train, Y_train)\n",
    "Y_pred = logreg.predict(X_test)\n",
    "acc_log = round(logreg.score(X_train, Y_train) * 100, 2)\n",
    "acc_test_log = round(logreg.score(X_test, Y_test) * 100, 2)\n",
    "print(\"Accuracy on Training Set:\", acc_log)\n",
    "print(\"Accuracy on Test Set:\", acc_test_log)"
   ]
  },
  {
   "cell_type": "code",
   "execution_count": null,
   "metadata": {},
   "outputs": [],
   "source": [
    "#Display SCore for LogisticalRegresssion\n",
    "display_scores(Y_test, Y_pred)"
   ]
  },
  {
   "cell_type": "code",
   "execution_count": null,
   "metadata": {},
   "outputs": [],
   "source": [
    "# Cross validation Logistical Regression\n",
    "scores = cross_val_score(logreg,X,y,scoring=\"neg_mean_squared_error\",cv=5)\n",
    "tree_rmse_scores = np.sqrt(-scores)\n",
    "display_cross_val_scores(tree_rmse_scores)"
   ]
  },
  {
   "cell_type": "code",
   "execution_count": null,
   "metadata": {},
   "outputs": [],
   "source": [
    "# Corelation Coefficient\n",
    "coeff_df = pd.DataFrame(train_rg.columns.delete(0))\n",
    "coeff_df.columns = ['Feature']\n",
    "coeff_df[\"Correlation\"] = pd.Series(logreg.coef_[0])\n",
    "coeff_df.sort_values(by='Correlation', ascending=False)"
   ]
  },
  {
   "cell_type": "code",
   "execution_count": null,
   "metadata": {},
   "outputs": [],
   "source": [
    "svc = SVC()\n",
    "svc.fit(X_train, Y_train)\n",
    "Y_pred = svc.predict(X_test)\n",
    "acc_svc = round(svc.score(X_train, Y_train) * 100, 2)\n",
    "acc_test_svc = round(svc.score(X_test, Y_test) * 100, 2)\n",
    "print(\"Accuracy on Training Set:\", acc_svc)\n",
    "print(\"Accuracy on Test Set:\", acc_test_svc)"
   ]
  },
  {
   "cell_type": "code",
   "execution_count": null,
   "metadata": {},
   "outputs": [],
   "source": [
    "#Display SCore for SVC\n",
    "display_scores(Y_test, Y_pred)"
   ]
  },
  {
   "cell_type": "code",
   "execution_count": null,
   "metadata": {},
   "outputs": [],
   "source": [
    "# Cross validation SVC\n",
    "scores = cross_val_score(svc,X,y,scoring=\"neg_mean_squared_error\",cv=5)\n",
    "tree_rmse_scores = np.sqrt(-scores)\n",
    "display_cross_val_scores(tree_rmse_scores)"
   ]
  },
  {
   "cell_type": "code",
   "execution_count": null,
   "metadata": {},
   "outputs": [],
   "source": [
    "#KNN\n",
    "knn = KNeighborsClassifier(n_neighbors = 3)\n",
    "knn.fit(X_train, Y_train)\n",
    "Y_pred = knn.predict(X_test)\n",
    "acc_knn = round(knn.score(X_train, Y_train) * 100, 2)\n",
    "acc_test_knn = round(knn.score(X_test, Y_test) * 100, 2)\n",
    "print(\"Accuracy on Training Set:\", acc_knn)\n",
    "print(\"Accuracy on Test Set:\", acc_test_knn)"
   ]
  },
  {
   "cell_type": "code",
   "execution_count": null,
   "metadata": {},
   "outputs": [],
   "source": [
    "#Display SCore for KNN\n",
    "display_scores(Y_test, Y_pred)"
   ]
  },
  {
   "cell_type": "code",
   "execution_count": null,
   "metadata": {},
   "outputs": [],
   "source": [
    "# Cross validation KNN\n",
    "scores = cross_val_score(knn,X,y,scoring=\"neg_mean_squared_error\",cv=5)\n",
    "tree_rmse_scores = np.sqrt(-scores)\n",
    "display_cross_val_scores(tree_rmse_scores)"
   ]
  },
  {
   "cell_type": "code",
   "execution_count": null,
   "metadata": {},
   "outputs": [],
   "source": [
    "# Gaussian\n",
    "gaussian = GaussianNB()\n",
    "gaussian.fit(X_train, Y_train)\n",
    "Y_pred = gaussian.predict(X_test)\n",
    "acc_gaussian = round(gaussian.score(X_train, Y_train) * 100, 2)\n",
    "acc_test_gaussian = round(gaussian.score(X_test, Y_test) * 100, 2)\n",
    "print(\"Accuracy on Training Set:\", acc_gaussian)\n",
    "print(\"Accuracy on Test Set:\", acc_test_gaussian)\n",
    "display_scores(Y_test, Y_pred)"
   ]
  },
  {
   "cell_type": "code",
   "execution_count": null,
   "metadata": {},
   "outputs": [],
   "source": [
    "# Cross validation Gaussian\n",
    "scores = cross_val_score(gaussian,X,y,scoring=\"neg_mean_squared_error\",cv=5)\n",
    "tree_rmse_scores = np.sqrt(-scores)\n",
    "display_cross_val_scores(tree_rmse_scores)"
   ]
  },
  {
   "cell_type": "code",
   "execution_count": null,
   "metadata": {},
   "outputs": [],
   "source": [
    "# Perceptron\n",
    "perceptron = Perceptron()\n",
    "perceptron.fit(X_train, Y_train)\n",
    "Y_pred = perceptron.predict(X_test)\n",
    "acc_perceptron = round(perceptron.score(X_train, Y_train) * 100, 2)\n",
    "acc_test_perceptron = round(perceptron.score(X_test, Y_test) * 100, 2)\n",
    "print(\"Accuracy on Training Set:\", acc_perceptron)\n",
    "print(\"Accuracy on Test Set:\", acc_test_perceptron)\n",
    "display_scores(Y_test, Y_pred)"
   ]
  },
  {
   "cell_type": "code",
   "execution_count": null,
   "metadata": {},
   "outputs": [],
   "source": [
    "# Cross validation Perceptron\n",
    "scores = cross_val_score(perceptron,X,y,scoring=\"neg_mean_squared_error\",cv=5)\n",
    "tree_rmse_scores = np.sqrt(-scores)\n",
    "display_cross_val_scores(tree_rmse_scores)"
   ]
  },
  {
   "cell_type": "code",
   "execution_count": null,
   "metadata": {},
   "outputs": [],
   "source": [
    "#Linear SVC\n",
    "linear_svc = LinearSVC()\n",
    "linear_svc.fit(X_train, Y_train)\n",
    "Y_pred = linear_svc.predict(X_test)\n",
    "acc_linear_svc = round(linear_svc.score(X_train, Y_train) * 100, 2)\n",
    "acc_test_linear_svc = round(linear_svc.score(X_test, Y_test) * 100, 2)\n",
    "\n",
    "print(\"Accuracy on Training Set:\", acc_linear_svc)\n",
    "print(\"Accuracy on Test Set:\", acc_test_linear_svc)\n",
    "display_scores(Y_test, Y_pred)"
   ]
  },
  {
   "cell_type": "code",
   "execution_count": null,
   "metadata": {},
   "outputs": [],
   "source": [
    "# Cross validation Linear SVC\n",
    "scores = cross_val_score(linear_svc,X,y,scoring=\"neg_mean_squared_error\",cv=5)\n",
    "tree_rmse_scores = np.sqrt(-scores)\n",
    "display_cross_val_scores(tree_rmse_scores)"
   ]
  },
  {
   "cell_type": "code",
   "execution_count": null,
   "metadata": {},
   "outputs": [],
   "source": [
    "# SGD\n",
    "sgd = SGDClassifier()\n",
    "sgd.fit(X_train, Y_train)\n",
    "Y_pred = sgd.predict(X_test)\n",
    "acc_sgd = round(sgd.score(X_train, Y_train) * 100, 2)\n",
    "acc_test_sgd = round(sgd.score(X_test, Y_test) * 100, 2)\n",
    "print(\"Accuracy on Training Set:\", acc_sgd)\n",
    "print(\"Accuracy on Test Set:\", acc_test_sgd)\n",
    "display_scores(Y_test, Y_pred)"
   ]
  },
  {
   "cell_type": "code",
   "execution_count": null,
   "metadata": {},
   "outputs": [],
   "source": [
    "# Cross validation SGD\n",
    "scores = cross_val_score(sgd,X,y,scoring=\"neg_mean_squared_error\",cv=5)\n",
    "tree_rmse_scores = np.sqrt(-scores)\n",
    "display_cross_val_scores(tree_rmse_scores)"
   ]
  },
  {
   "cell_type": "code",
   "execution_count": null,
   "metadata": {},
   "outputs": [],
   "source": [
    "# Decision Tree\n",
    "decision_tree = DecisionTreeClassifier()\n",
    "decision_tree.fit(X_train, Y_train)\n",
    "Y_pred = decision_tree.predict(X_test)\n",
    "acc_decision_tree = round(decision_tree.score(X_train, Y_train) * 100, 2)\n",
    "acc_test_decision_tree = round(decision_tree.score(X_test, Y_test) * 100, 2)\n",
    "print(\"Accuracy on Training Set:\", acc_decision_tree)\n",
    "print(\"Accuracy on Test Set:\", acc_test_decision_tree)\n",
    "display_scores(Y_test, Y_pred)"
   ]
  },
  {
   "cell_type": "code",
   "execution_count": null,
   "metadata": {},
   "outputs": [],
   "source": [
    "# Cross validation Decision Tree\n",
    "scores = cross_val_score(decision_tree,X,y,scoring=\"neg_mean_squared_error\",cv=5)\n",
    "tree_rmse_scores = np.sqrt(-scores)\n",
    "display_cross_val_scores(tree_rmse_scores)"
   ]
  },
  {
   "cell_type": "code",
   "execution_count": null,
   "metadata": {},
   "outputs": [],
   "source": [
    "# Random Forest\n",
    "random_forest = RandomForestClassifier(n_estimators=100)\n",
    "random_forest.fit(X_train, Y_train)\n",
    "Y_pred = random_forest.predict(X_test)\n",
    "random_forest.score(X_train, Y_train)\n",
    "acc_random_forest = round(random_forest.score(X_train, Y_train) * 100, 2)\n",
    "acc_test_random_forest = round(random_forest.score(X_test, Y_test) * 100, 2)\n",
    "print(\"Accuracy on Training Set:\", acc_random_forest)\n",
    "print(\"Accuracy on Test Set:\", acc_test_random_forest)\n",
    "display_scores(Y_test, Y_pred)"
   ]
  },
  {
   "cell_type": "code",
   "execution_count": null,
   "metadata": {},
   "outputs": [],
   "source": [
    "models = pd.DataFrame({\n",
    "    'Model': ['Support Vector Machines', 'KNN', 'Logistic Regression', \n",
    "              'Random Forest', 'Naive Bayes', 'Perceptron', \n",
    "              'Stochastic Gradient Decent', 'Linear SVC', \n",
    "              'Decision Tree'],\n",
    "    'ScoreTrainingSet': [acc_svc, acc_knn, acc_log, \n",
    "              acc_random_forest, acc_gaussian, acc_perceptron, \n",
    "              acc_sgd, acc_linear_svc, acc_decision_tree],\n",
    "    'ScoeTestSet': [acc_test_svc, acc_test_knn, acc_test_log, \n",
    "              acc_test_random_forest, acc_test_gaussian, acc_test_perceptron, \n",
    "              acc_test_sgd, acc_test_linear_svc, acc_test_decision_tree]})\n",
    "\n",
    "models.sort_values(by='ScoreTrainingSet', ascending=False)"
   ]
  },
  {
   "cell_type": "code",
   "execution_count": null,
   "metadata": {},
   "outputs": [],
   "source": [
    "def rmse(predictions, targets): \n",
    "    return \n",
    "    np.sqrt(((predictions - targets) ** 2).mean())"
   ]
  },
  {
   "cell_type": "code",
   "execution_count": null,
   "metadata": {},
   "outputs": [],
   "source": [
    "def display_scores(scores):\n",
    "    print(\"Scores:\", scores)\n",
    "    print(\"Mean:\", scores.mean())\n",
    "    print(\"Standard deviation:\", scores.std())\n",
    "\n",
    "display_scores(tree_rmse_scores)"
   ]
  },
  {
   "cell_type": "code",
   "execution_count": null,
   "metadata": {},
   "outputs": [],
   "source": []
  },
  {
   "cell_type": "code",
   "execution_count": null,
   "metadata": {},
   "outputs": [],
   "source": []
  }
 ],
 "metadata": {
  "kernelspec": {
   "display_name": "Python 3",
   "language": "python",
   "name": "python3"
  },
  "language_info": {
   "codemirror_mode": {
    "name": "ipython",
    "version": 3
   },
   "file_extension": ".py",
   "mimetype": "text/x-python",
   "name": "python",
   "nbconvert_exporter": "python",
   "pygments_lexer": "ipython3",
   "version": "3.7.3"
  }
 },
 "nbformat": 4,
 "nbformat_minor": 4
}
